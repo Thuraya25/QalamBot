{
 "cells": [
  {
   "cell_type": "code",
   "execution_count": 1,
   "id": "94f6f354-7719-49b3-bd15-3e37e671bb67",
   "metadata": {},
   "outputs": [],
   "source": [
    "import logging\n",
    "\n",
    "# Set up logging at the beginning of your script\n",
    "logging.basicConfig(filename='bot.log', level=logging.DEBUG,\n",
    "                    format='%(asctime)s - %(levelname)s - %(message)s')\n",
    "\n",
    "# Then, you can log something\n",
    "logging.debug(\"Bot has started\")\n"
   ]
  },
  {
   "cell_type": "code",
   "execution_count": 2,
   "id": "652b4b2d-72d4-4d20-b990-dd82c6932c8c",
   "metadata": {},
   "outputs": [],
   "source": [
    "#import all necessary libraries \n",
    "\n",
    "import logging\n",
    "import language_tool_python\n",
    "from typing import Final\n",
    "from telegram import Update\n",
    "from telegram.ext import Application, CommandHandler, MessageHandler, filters, ContextTypes\n",
    "import asyncio\n",
    "import nest_asyncio\n",
    "import nltk\n",
    "from nltk.corpus import wordnet\n",
    "from nltk.corpus import wordnet as wn\n",
    "import pytz\n",
    "from datetime import datetime\n",
    "from telegram import Bot\n",
    "import nest_asyncio\n"
   ]
  },
  {
   "cell_type": "code",
   "execution_count": 3,
   "id": "32dfede9-859c-4115-866b-0b3a940c5f9f",
   "metadata": {},
   "outputs": [],
   "source": [
    "# Apply nest_asyncio to avoid event loop conflicts in Jupyter Notebook\n",
    "nest_asyncio.apply()"
   ]
  },
  {
   "cell_type": "code",
   "execution_count": 4,
   "id": "58b08d77-b124-4646-87f5-546efb0274a8",
   "metadata": {},
   "outputs": [
    {
     "name": "stderr",
     "output_type": "stream",
     "text": [
      "[nltk_data] Downloading package wordnet to\n",
      "[nltk_data]     C:\\Users\\thura\\AppData\\Roaming\\nltk_data...\n",
      "[nltk_data]   Package wordnet is already up-to-date!\n"
     ]
    },
    {
     "data": {
      "text/plain": [
       "True"
      ]
     },
     "execution_count": 4,
     "metadata": {},
     "output_type": "execute_result"
    }
   ],
   "source": [
    "# download necessary NLTK data\n",
    "nltk.download('wordnet')\n"
   ]
  },
  {
   "cell_type": "code",
   "execution_count": 5,
   "id": "0185c787-e06c-4eac-8839-db8fe09ac7ec",
   "metadata": {},
   "outputs": [],
   "source": [
    "#bot token and username.\n",
    "Token: Final='7690158589:AAESSAxYHDHipEjmhqr5QhwegVD8gTQrQtM'\n",
    "BOT_USERNAME:Final = \"@QalamAI_Bot\""
   ]
  },
  {
   "cell_type": "code",
   "execution_count": 6,
   "id": "2e67b075-7292-4774-b81b-d938dc7181f4",
   "metadata": {},
   "outputs": [],
   "source": [
    "# Initialize LanguageTool for grammar checking\n",
    "tool = language_tool_python.LanguageTool('en-US')\n"
   ]
  },
  {
   "cell_type": "code",
   "execution_count": 7,
   "id": "d31b07eb-c829-4b2b-9524-acb5fbe7f18a",
   "metadata": {},
   "outputs": [],
   "source": [
    "\n",
    "def log_command(update: Update, context: ContextTypes.DEFAULT_TYPE):\n",
    "    if hasattr(update, 'message'):  # Check if it's an Update object\n",
    "        logging.info(f\"User {update.message.from_user.username} sent: {update.message.text}\")\n",
    "\n"
   ]
  },
  {
   "cell_type": "code",
   "execution_count": 8,
   "id": "ee4d55e9-8701-420e-8ef4-f3a1e57d666b",
   "metadata": {},
   "outputs": [],
   "source": [
    "async def start_command (update: Update, context: ContextTypes.DEFAULT_TYPE) -> None:\n",
    "    log_command(update, context)  # Now the function exists\n",
    "    await update.message.reply_text(\"👋 Hello! I'm Qalam, your English assistant bot. I can:\\n\"\n",
    "        \"📖 Correct grammar errors → Use /correct [sentence]\\n\"\n",
    "        \"📚 Define words → Use /vocabinfo [word]\\n\"\n",
    "        \"🆘 Need help? Type /help\")\n"
   ]
  },
  {
   "cell_type": "code",
   "execution_count": 9,
   "id": "604ecc89-14f1-4521-bf50-e447df8aad92",
   "metadata": {},
   "outputs": [],
   "source": [
    "async def help_command(update: Update, context:ContextTypes.DEFAULT_TYPE) -> None:\n",
    "    log_command(update, context)\n",
    "    await update.message.reply_text( \"ℹ️ **How to use this bot:**\\n\\n\"\n",
    "        \"✅ **Grammar Correction:**\\n\"\n",
    "        \"Type: `/correct He are a boy`\\n\"\n",
    "        \"Response: `He is a boy.`\\n\\n\"\n",
    "        \"✅ **Word Definition:**\\n\"\n",
    "        \"Type: `/vocabinfo happy`\\n\"\n",
    "        \"Response: Meaning and synonyms.\\n\\n\"\n",
    "        \"✅ **Reset:**\\n\"\n",
    "        \"Type: `/reset` to clear session data.\\n\\n\"\n",
    "        \"Need further assistance? Just ask!\")"
   ]
  },
  {
   "cell_type": "code",
   "execution_count": 10,
   "id": "10bad6a0-dae4-418d-b4cf-71c1ea6c6a98",
   "metadata": {},
   "outputs": [],
   "source": [
    "async def correct_command(update: Update, context: ContextTypes.DEFAULT_TYPE) -> None:\n",
    "    \"\"\"Checks and corrects grammar mistakes.\"\"\"\n",
    "    log_command(update, context)\n",
    "    user_input = ' '.join(context.args).strip().lower()\n",
    "    \n",
    "    if not user_input:\n",
    "        await update.message.reply_text(\"❗ Please provide a sentence after /correct.\")\n",
    "        return\n",
    "    \n",
    "    matches = tool.check(user_input)\n",
    "    \n",
    "    if not matches:\n",
    "        response = \"✅ No grammar mistakes detected.\"\n",
    "    else:\n",
    "        corrected_text = language_tool_python.utils.correct(user_input, matches)\n",
    "        response = f\"✏️ **Correction:** {corrected_text}\"\n",
    "    \n",
    "    await update.message.reply_text(response)"
   ]
  },
  {
   "cell_type": "code",
   "execution_count": 11,
   "id": "18084174-82d7-460f-9eed-719344b82273",
   "metadata": {},
   "outputs": [],
   "source": [
    "async def vocabinfo_command (update: Update, context: ContextTypes.DEFAULT_TYPE)-> None:\n",
    "    \"\"\"Provides definition and synonyms of a word.\"\"\"\n",
    "    log_command(update, context)\n",
    "    user_input = ' '.join(context.args).strip().lower()\n",
    "    \n",
    "    if not user_input:\n",
    "        await update.message.reply_text(\"🔍 Please provide a word after /vocabinfo.\")\n",
    "        return\n",
    "    \n",
    "    synsets = wordnet.synsets(user_input)\n",
    "    \n",
    "    if not synsets:\n",
    "        await update.message.reply_text(f\"❌ Sorry, no definition found for '{user_input}'.\")\n",
    "    else:\n",
    "        definition = synsets[0].definition()\n",
    "        synonyms = [lemma.name() for lemma in synsets[0].lemmas()]\n",
    "        \n",
    "        message = f\"📖 **Word:** {user_input.capitalize()}\\n\"\n",
    "        message += f\"💡 **Definition:** {definition}\\n\"\n",
    "        if synonyms:\n",
    "            message += f\"📝 **Synonyms:** {', '.join(synonyms)}\"\n",
    "        \n",
    "        await update.message.reply_text(message, parse_mode='Markdown')\n"
   ]
  },
  {
   "cell_type": "code",
   "execution_count": 12,
   "id": "dca33256-7636-4325-b4d2-b5a1556334f1",
   "metadata": {},
   "outputs": [],
   "source": [
    "async def reset_command(update: Update, context: ContextTypes):\n",
    "    log_command( update, context)\n",
    "    context.user_data.clear()  # Clears stored user data\n",
    "    await update.message.reply_text(\"🔄 Session has been reset. You can start fresh now!\")\n"
   ]
  },
  {
   "cell_type": "code",
   "execution_count": 13,
   "id": "7b833e20-2b44-4a68-b1f6-f6768f4c42ce",
   "metadata": {},
   "outputs": [],
   "source": [
    "async def handle_response(text: str) -> str:\n",
    "    processed: str = text.lower()\n",
    "\n",
    "    if 'hello' in processed:\n",
    "        return 'Hi there! How can I help you today?'\n",
    "\n",
    "    if 'how are you' in processed:\n",
    "        return \"I'm good\"\n",
    "\n",
    "    if 'I love Python' in processed:\n",
    "        return 'Remember to subscribe'\n",
    "\n",
    "    return \"I'm not sure how to respond to that. Could you try again?\"\n"
   ]
  },
  {
   "cell_type": "code",
   "execution_count": 14,
   "id": "7f44184b-2c40-46db-ab79-1772f69f0014",
   "metadata": {},
   "outputs": [],
   "source": [
    "async def handle_message(update: Update, context: ContextTypes.DEFAULT_TYPE):\n",
    "    user_message = update.message.text.lower()  # Convert to lowercase for consistency\n",
    "    \n",
    "    if \"check grammar\" in user_message or \"correct this\" in user_message:\n",
    "        response = check_grammar(user_message)  # Call your grammar function\n",
    "        await update.message.reply_text(response)\n",
    "    else:\n",
    "        await update.message.reply_text(\"I'm not sure, sorry...\")\n"
   ]
  },
  {
   "cell_type": "code",
   "execution_count": 15,
   "id": "73b32109-bdf3-4cde-8b4e-420ef59fe340",
   "metadata": {},
   "outputs": [],
   "source": [
    "async def process_message(message_type: str, text: str, BOT_USERNAME: str) -> str:\n",
    "    if message_type == 'group':\n",
    "        if BOT_USERNAME in text:\n",
    "            new_text = text.replace(BOT_USERNAME, '').strip()\n",
    "            response = await handle_response(new_text)  # Await handle_response\n",
    "        else:\n",
    "            return ''  # Return empty if no bot mention\n",
    "    else:\n",
    "        response = await handle_response(text)  # Await handle_response for normal messages\n",
    "\n",
    "    return response"
   ]
  },
  {
   "cell_type": "code",
   "execution_count": 16,
   "id": "29f82528-d151-41ce-a574-075dbbc40872",
   "metadata": {},
   "outputs": [],
   "source": [
    "\n",
    "# Set bot's timezone\n",
    "timezone = pytz.timezone('Asia/Riyadh')\n",
    "dt = datetime.now(timezone)"
   ]
  },
  {
   "cell_type": "code",
   "execution_count": 17,
   "id": "7b045870-983a-4196-b378-4994402b4ca5",
   "metadata": {
    "scrolled": true
   },
   "outputs": [
    {
     "name": "stdout",
     "output_type": "stream",
     "text": [
      "Running bot...\n"
     ]
    }
   ],
   "source": [
    "async def error(update: Update, context: ContextTypes.DEFAULT_TYPE):\n",
    "    logging.error(f\"Update {update} caused error {context.error}\")\n",
    "if __name__=='__main__':\n",
    "    logging.info('Starting bot...')\n",
    "# Initialize bot application\n",
    "    app= Application.builder().token(Token).build()\n",
    "    #add command handler\n",
    "    app.add_handler(CommandHandler('start', start_command))\n",
    "    app.add_handler(CommandHandler('help', help_command))\n",
    "    app.add_handler(CommandHandler('correct', correct_command))\n",
    "    app.add_handler(CommandHandler('vocabinfo', vocabinfo_command))\n",
    "    app.add_handler(CommandHandler('reset', reset_command))\n",
    "\n",
    "    #add message handler\n",
    "    app.add_handler(MessageHandler(filters.TEXT, handle_message)) \n",
    " \n",
    "    #add error handler\n",
    "    app.add_error_handler(error)\n",
    "    \n",
    "    nest_asyncio.apply()\n",
    "\n",
    "\n",
    "async def run_bot():\n",
    "    logging.info('Polling...')\n",
    "    await app.run_polling(poll_interval=3)\n",
    "\n",
    "# Start the bot\n",
    "asyncio.create_task(run_bot())\n",
    "print(\"Running bot...\")\n",
    "\n",
    "\n"
   ]
  },
  {
   "cell_type": "code",
   "execution_count": null,
   "id": "b3e5391e-55fb-44c1-b9a2-5bcf803865c9",
   "metadata": {},
   "outputs": [],
   "source": []
  }
 ],
 "metadata": {
  "kernelspec": {
   "display_name": "Python 3 (ipykernel)",
   "language": "python",
   "name": "python3"
  },
  "language_info": {
   "codemirror_mode": {
    "name": "ipython",
    "version": 3
   },
   "file_extension": ".py",
   "mimetype": "text/x-python",
   "name": "python",
   "nbconvert_exporter": "python",
   "pygments_lexer": "ipython3",
   "version": "3.11.7"
  }
 },
 "nbformat": 4,
 "nbformat_minor": 5
}
